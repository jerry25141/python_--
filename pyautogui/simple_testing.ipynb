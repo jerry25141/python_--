{
 "cells": [
  {
   "cell_type": "code",
   "execution_count": null,
   "metadata": {},
   "outputs": [],
   "source": [
    "import PySimpleGUI as sg"
   ]
  },
  {
   "cell_type": "markdown",
   "metadata": {},
   "source": [
    "## 官網示範"
   ]
  },
  {
   "cell_type": "code",
   "execution_count": null,
   "metadata": {},
   "outputs": [
    {
     "ename": "NameError",
     "evalue": "name 'sg' is not defined",
     "output_type": "error",
     "traceback": [
      "\u001b[1;31m---------------------------------------------------------------------------\u001b[0m",
      "\u001b[1;31mNameError\u001b[0m                                 Traceback (most recent call last)",
      "Cell \u001b[1;32mIn[1], line 1\u001b[0m\n\u001b[1;32m----> 1\u001b[0m sg\u001b[38;5;241m.\u001b[39mtheme(\u001b[38;5;124m'\u001b[39m\u001b[38;5;124mDarkAmber\u001b[39m\u001b[38;5;124m'\u001b[39m)   \u001b[38;5;66;03m# Add a touch of color\u001b[39;00m\n\u001b[0;32m      3\u001b[0m \u001b[38;5;66;03m# 視窗內所有物件\u001b[39;00m\n\u001b[0;32m      4\u001b[0m layout \u001b[38;5;241m=\u001b[39m [  [sg\u001b[38;5;241m.\u001b[39mText(\u001b[38;5;124m'\u001b[39m\u001b[38;5;124m這是用來相加的程式\u001b[39m\u001b[38;5;124m'\u001b[39m)],\n\u001b[0;32m      5\u001b[0m             [sg\u001b[38;5;241m.\u001b[39mInputText(size\u001b[38;5;241m=\u001b[39m(\u001b[38;5;241m3\u001b[39m)), sg\u001b[38;5;241m.\u001b[39mText(\u001b[38;5;124m'\u001b[39m\u001b[38;5;124m+\u001b[39m\u001b[38;5;124m'\u001b[39m), sg\u001b[38;5;241m.\u001b[39mInputText(size\u001b[38;5;241m=\u001b[39m(\u001b[38;5;241m3\u001b[39m))],\n\u001b[0;32m      6\u001b[0m             [sg\u001b[38;5;241m.\u001b[39mButton(\u001b[38;5;124m'\u001b[39m\u001b[38;5;124mOk\u001b[39m\u001b[38;5;124m'\u001b[39m), sg\u001b[38;5;241m.\u001b[39mButton(\u001b[38;5;124m'\u001b[39m\u001b[38;5;124mCancel\u001b[39m\u001b[38;5;124m'\u001b[39m)] ]\n",
      "\u001b[1;31mNameError\u001b[0m: name 'sg' is not defined"
     ]
    },
    {
     "ename": "",
     "evalue": "",
     "output_type": "error",
     "traceback": [
      "\u001b[1;31m在目前儲存格或上一個儲存格中執行程式碼時，Kernel 已損毀。\n",
      "\u001b[1;31m請檢閱儲存格中的程式碼，找出失敗的可能原因。\n",
      "\u001b[1;31m如需詳細資訊，請按一下<a href='https://aka.ms/vscodeJupyterKernelCrash'>這裡</a>。\n",
      "\u001b[1;31m如需詳細資料，請檢視 Jupyter <a href='command:jupyter.viewOutput'>記錄</a>。"
     ]
    }
   ],
   "source": [
    "\n",
    "sg.theme('DarkAmber')   # Add a touch of color\n",
    "\n",
    "# 視窗內所有物件\n",
    "layout = [  [sg.Text('這是用來相加的程式')],\n",
    "            [sg.InputText(size=(3)), sg.Text('+'), sg.InputText(size=(3))],\n",
    "            [sg.Button('Ok'), sg.Button('Cancel')] ]\n",
    "\n",
    "# 建立視窗\n",
    "window = sg.Window('視窗', layout, font=('微軟正黑體',15), keep_on_top=True)\n",
    "# 事件循環處理“事件”並獲取輸入的“值”\n",
    "while True:\n",
    "    event, values = window.read()\n",
    "    if event == sg.WIN_CLOSED or event == 'Cancel': # 如果視窗被關掉\n",
    "        break\n",
    "    # values 輸出的是 dict，所以print要使用values[key]\n",
    "\n",
    "    # 1 #   印出 values[0]資料\n",
    "    # print('You entered ', values[0])\n",
    "\n",
    "    # 2 #   印出資料\n",
    "    # for each in values:\n",
    "    #     print('You entered ', values[each])\n",
    "\n",
    "    # 3 #   彈出視窗顯示答案\n",
    "    ans = int(values[0]) + int(values[1])\n",
    "    sg.Popup(f\"ans = {ans}\", keep_on_top=True)\n",
    "\n",
    "window.close()"
   ]
  },
  {
   "cell_type": "markdown",
   "metadata": {},
   "source": [
    "## popup 視窗展示"
   ]
  },
  {
   "cell_type": "code",
   "execution_count": 6,
   "metadata": {},
   "outputs": [
    {
     "data": {
      "text/plain": [
       "'__TIMEOUT__'"
      ]
     },
     "execution_count": 6,
     "metadata": {},
     "output_type": "execute_result"
    }
   ],
   "source": [
    "# sg.popup('Popup')  # Shows OK button\n",
    "# sg.popup_ok('PopupOk')  # Shows OK button\n",
    "# sg.popup_yes_no('PopupYesNo')  # Shows Yes and No buttons\n",
    "# sg.popup_cancel('PopupCancel')  # Shows Cancelled button\n",
    "# sg.popup_ok_cancel('PopupOKCancel')  # Shows OK and Cancel buttons\n",
    "# sg.popup_error('PopupError')  # Shows red error button\n",
    "# sg.popup_timed('PopupTimed')  # Automatically closes\n",
    "sg.popup_auto_close('PopupAutoClose',auto_close_duration=3)  # Same as PopupTimed"
   ]
  },
  {
   "cell_type": "code",
   "execution_count": 8,
   "metadata": {},
   "outputs": [
    {
     "data": {
      "text/plain": [
       "'OK'"
      ]
     },
     "execution_count": 8,
     "metadata": {},
     "output_type": "execute_result"
    }
   ],
   "source": [
    "text = '123456789\\nabcdefg\\n\\n\\nH\\ne\\nl\\nl\\no\\n_\\nW\\no\\nr\\nl\\nd'\n",
    "sg.popup_scrolled(text, size=(20, None), font=('微軟正黑體', 15), keep_on_top=True)"
   ]
  },
  {
   "cell_type": "markdown",
   "metadata": {},
   "source": [
    "### Popup檔案路徑"
   ]
  },
  {
   "cell_type": "code",
   "execution_count": 9,
   "metadata": {},
   "outputs": [
    {
     "name": "stdout",
     "output_type": "stream",
     "text": [
      "None\n"
     ]
    }
   ],
   "source": [
    "msg = '請選擇檔案'\n",
    "text = sg.popup_get_file(msg, size=(\n",
    "    20, None), font=('微軟正黑體', 15), keep_on_top=True)\n",
    "\n",
    "print(text)"
   ]
  },
  {
   "cell_type": "markdown",
   "metadata": {},
   "source": [
    "### Popup資料夾路徑"
   ]
  },
  {
   "cell_type": "code",
   "execution_count": 10,
   "metadata": {},
   "outputs": [
    {
     "name": "stdout",
     "output_type": "stream",
     "text": [
      "None\n"
     ]
    }
   ],
   "source": [
    "msg = '請選擇資料夾'\n",
    "text = sg.popup_get_folder(msg, size=(\n",
    "    20, None), font=('微軟正黑體', 15), keep_on_top=True)\n",
    "\n",
    "print(text)"
   ]
  },
  {
   "cell_type": "markdown",
   "metadata": {},
   "source": [
    "## Progress 進度顯示"
   ]
  },
  {
   "cell_type": "code",
   "execution_count": null,
   "metadata": {},
   "outputs": [],
   "source": [
    "from time import sleep\n",
    "\n",
    "title_msg = \"進度顯示視窗\"\n",
    "\n",
    "for i in range(1,50):\n",
    "    sg.OneLineProgressMeter(title_msg, current_value=i+1, max_value=100,\n",
    "                            orientation='h', no_button=True, keep_on_top=True)\n",
    "    sleep(0.05)"
   ]
  },
  {
   "cell_type": "markdown",
   "metadata": {},
   "source": [
    "## EZ Print 簡易輸出\n",
    "### (Jupyter 需要使用 PrintClose()來正常關閉，py 或 cli 會自動關閉)"
   ]
  },
  {
   "cell_type": "code",
   "execution_count": 12,
   "metadata": {},
   "outputs": [],
   "source": [
    "for i in range(100):\n",
    "    sg.Print(i)\n",
    "\n",
    "sg.PrintClose()"
   ]
  },
  {
   "cell_type": "code",
   "execution_count": 18,
   "metadata": {},
   "outputs": [],
   "source": [
    "print = sg.Print    # 直接覆蓋原始python的方法\n",
    "for i in range(100):\n",
    "    print(i)\n",
    "\n",
    "sg.PrintClose()"
   ]
  },
  {
   "cell_type": "markdown",
   "metadata": {},
   "source": [
    "# 【Test】"
   ]
  },
  {
   "cell_type": "code",
   "execution_count": 13,
   "metadata": {},
   "outputs": [
    {
     "name": "stdout",
     "output_type": "stream",
     "text": [
      " \n"
     ]
    }
   ],
   "source": [
    "import PySimpleGUI as sg\n",
    "\n",
    "sg.theme('Dark Blue 3')  # please make your windows colorful\n",
    "\n",
    "layout = [[sg.Text('Rename files or folders')],\n",
    "      [sg.Text('Source for Folders', size=(15, 1)), sg.InputText(), sg.FolderBrowse()],\n",
    "      [sg.Text('Source for Files ', size=(15, 1)), sg.InputText(), sg.FileBrowse()],\n",
    "      [sg.Submit(button_text=\"上傳\"), sg.Cancel()]]\n",
    "\n",
    "window = sg.Window('Rename Files or Folders', layout, keep_on_top=True)\n",
    "\n",
    "event, values = window.read()\n",
    "window.close()\n",
    "folder_path, file_path = values[0], values[1]       # get the data from the values dictionary\n",
    "print(folder_path, file_path)"
   ]
  }
 ],
 "metadata": {
  "kernelspec": {
   "display_name": "base",
   "language": "python",
   "name": "python3"
  },
  "language_info": {
   "codemirror_mode": {
    "name": "ipython",
    "version": 3
   },
   "file_extension": ".py",
   "mimetype": "text/x-python",
   "name": "python",
   "nbconvert_exporter": "python",
   "pygments_lexer": "ipython3",
   "version": "3.12.3"
  },
  "orig_nbformat": 4
 },
 "nbformat": 4,
 "nbformat_minor": 2
}
