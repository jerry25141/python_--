{
 "cells": [
  {
   "cell_type": "code",
   "execution_count": null,
   "metadata": {},
   "outputs": [],
   "source": [
    "import subprocess\n",
    "import os\n",
    "import pyautogui\n",
    "from tkinter import *\n",
    "\n",
    "import PySimpleGUI as sg"
   ]
  },
  {
   "cell_type": "markdown",
   "metadata": {},
   "source": [
    " 獲取目標資料夾內容（MKV）"
   ]
  },
  {
   "cell_type": "code",
   "execution_count": null,
   "metadata": {},
   "outputs": [
    {
     "name": "stdout",
     "output_type": "stream",
     "text": [
      "D:\\MyCode\\Python\\ffmpeg\\FFmpeg 批量轉檔 範例\n",
      "生成 save 資料夾\n"
     ]
    }
   ],
   "source": [
    "file_path = \"D://MyCode//Python//ffmpeg//FFmpeg 批量轉檔 範例\"\n",
    "save_path = \"D://MyCode//Python//ffmpeg//FFmpeg 批量轉檔 範例//save\"\n",
    "\n",
    "# 或\n",
    "file_path = sg.popup_get_folder(\"請輸入《來源》路徑:\", keep_on_top=True)\n",
    "save_path = sg.popup_get_folder(\"請輸入《目的地》路徑:\", keep_on_top=True)\n",
    "print(f\"{file_path}\")\n",
    "print(f\"{save_path}\")\n",
    "# 嘗試切換路徑\n",
    "try:\n",
    "    os.chdir(file_path)\n",
    "    print(os.getcwd())\n",
    "except Exception as e:\n",
    "    print(f\"無路徑或有錯誤\")\n",
    "    print(f\"[[ 錯誤訊息 ]]\\n{e}\")\n",
    "\n",
    "# 如果沒有save folder，嘗試建立\n",
    "try:\n",
    "    if \"save\" not in os.listdir():\n",
    "        print(\"生成 save 資料夾\")\n",
    "        os.makedirs(name=\"save\")\n",
    "except Exception as e:\n",
    "    pyautogui.alert(text=e)"
   ]
  },
  {
   "cell_type": "code",
   "execution_count": null,
   "metadata": {},
   "outputs": [],
   "source": [
    "name_list = []\n",
    "\n",
    "# 找尋到 .mkv，然後去掉副檔名，存入名稱\n",
    "for each in os.listdir():\n",
    "    if each.endswith(\".mkv\"):\n",
    "        print(each[:-4])\n",
    "        name_list.append(each[:-4])"
   ]
  },
  {
   "cell_type": "markdown",
   "metadata": {},
   "source": [
    " 批次處理檔案至目標"
   ]
  },
  {
   "cell_type": "code",
   "execution_count": 4,
   "metadata": {},
   "outputs": [],
   "source": [
    "def run_file_conversion(name):\n",
    "    name_file = name + \".mkv\"\n",
    "    name_output = save_path + \"//\" + name + \".mp4\"\n",
    "    command_copy = \"copy\"\n",
    "    \n",
    "    # 印出subprocess的指令在輸出中(debug用，有更好的方法\n",
    "    print(f\"【執行指令】\\n=======================================================================================\\n\")\n",
    "    print(f\"ffmpeg -i {name_file} -c {command_copy} {name_output}\")\n",
    "    print(\"\\n=======================================================================================\")\n",
    "\n",
    "    \n",
    "    subprocess.run(\n",
    "        [\n",
    "            \"ffmpeg\", \"-i\", name_file, \"-c\", command_copy, name_output\n",
    "        ]\n",
    "    , shell=True)\n"
   ]
  },
  {
   "cell_type": "code",
   "execution_count": null,
   "metadata": {},
   "outputs": [],
   "source": [
    "subprocess.run([\"pause\"], shell=True)\n",
    "\n",
    "try:\n",
    "    for name in name_list:\n",
    "        run_file_conversion(name)\n",
    "        subprocess.run([\"pause\"], shell=True)\n",
    "except Exception as e:\n",
    "    subprocess.run([\"pause\"], shell=True)\n",
    "    pyautogui.alert(text=e)"
   ]
  }
 ],
 "metadata": {
  "kernelspec": {
   "display_name": "base",
   "language": "python",
   "name": "python3"
  },
  "language_info": {
   "codemirror_mode": {
    "name": "ipython",
    "version": 3
   },
   "file_extension": ".py",
   "mimetype": "text/x-python",
   "name": "python",
   "nbconvert_exporter": "python",
   "pygments_lexer": "ipython3",
   "version": "3.12.3"
  },
  "orig_nbformat": 4
 },
 "nbformat": 4,
 "nbformat_minor": 2
}
